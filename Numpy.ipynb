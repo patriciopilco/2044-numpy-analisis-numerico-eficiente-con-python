{
  "nbformat": 4,
  "nbformat_minor": 0,
  "metadata": {
    "colab": {
      "provenance": [],
      "include_colab_link": true
    },
    "kernelspec": {
      "name": "python3",
      "display_name": "Python 3"
    },
    "language_info": {
      "name": "python"
    }
  },
  "cells": [
    {
      "cell_type": "markdown",
      "metadata": {
        "id": "view-in-github",
        "colab_type": "text"
      },
      "source": [
        "<a href=\"https://colab.research.google.com/github/patriciopilco/2044-numpy-analisis-numerico-eficiente-con-python/blob/main/Numpy.ipynb\" target=\"_parent\"><img src=\"https://colab.research.google.com/assets/colab-badge.svg\" alt=\"Open In Colab\"/></a>"
      ]
    },
    {
      "cell_type": "markdown",
      "source": [
        "# **Numpy: Análisis numérico eficiente con Python**"
      ],
      "metadata": {
        "id": "gIKzRrVXl_U4"
      }
    },
    {
      "cell_type": "code",
      "source": [
        "from google.colab import drive\n",
        "drive.mount('/content/drive')"
      ],
      "metadata": {
        "id": "3li2K1oR3Mk_",
        "outputId": "b1593dc8-b60e-4b2f-c0df-77f8b202260d",
        "colab": {
          "base_uri": "https://localhost:8080/"
        }
      },
      "execution_count": 3,
      "outputs": [
        {
          "output_type": "stream",
          "name": "stdout",
          "text": [
            "Drive already mounted at /content/drive; to attempt to forcibly remount, call drive.mount(\"/content/drive\", force_remount=True).\n"
          ]
        }
      ]
    },
    {
      "cell_type": "code",
      "source": [
        "import numpy as np\n",
        "path = '/content/drive/MyDrive/Colab Notebooks/Numpy/manzanas.csv'\n",
        "datos = np.loadtxt(path, delimiter=',', usecols = np.arange(1,88,1))"
      ],
      "metadata": {
        "id": "t4dEPX9c3zQX"
      },
      "execution_count": 9,
      "outputs": []
    },
    {
      "cell_type": "markdown",
      "source": [
        "NumPy es una biblioteca de Python que ofrece diversas herramientas y funcionalidades esenciales para la computación científica, incluyendo objetos de matriz multidimensional conocidos como *arrays*, rutinas para operaciones rápidas en matrizes, además de operaciones matemáticas, manipulación de formas, estadística entre otros. Es ampliamente utilizada en áreas como análisis de datos, procesamiento de señales y aprendizaje de máquina.\n",
        "\n",
        "Para acceder a la documentación de esta biblioteca, puedes hacer clic en el siguiente enlace: https://numpy.org/devdocs/index.html"
      ],
      "metadata": {
        "id": "ELbiOcHFmRA7"
      }
    },
    {
      "cell_type": "code",
      "source": [],
      "metadata": {
        "id": "aS1ry2oIWkI8"
      },
      "execution_count": null,
      "outputs": []
    }
  ]
}